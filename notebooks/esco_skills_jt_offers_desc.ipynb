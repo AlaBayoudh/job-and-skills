{
 "cells": [
  {
   "cell_type": "markdown",
   "metadata": {},
   "source": [
    "### Extract Skills from JT Offers descriptions\n",
    "- In this notebook we will try to extract skills from offers that were matched with ESCO job titles.\n",
    "- We will have at first a list of skills that exists in the offer\n",
    "- Another list that ESCO propose for each job\n",
    "- And a third list which represents the intersection between these two lists"
   ]
  },
  {
   "cell_type": "code",
   "execution_count": 67,
   "metadata": {},
   "outputs": [],
   "source": [
    "import skillsdb_functions as sf ## This file contain all function used in this notebook"
   ]
  },
  {
   "cell_type": "markdown",
   "metadata": {},
   "source": [
    "### Get our Data"
   ]
  },
  {
   "cell_type": "code",
   "execution_count": 2,
   "metadata": {},
   "outputs": [],
   "source": [
    "Skills = sf.retrieve_final_skills()\n",
    "JtOffers = sf.retrieve_jt_offers()"
   ]
  },
  {
   "cell_type": "markdown",
   "metadata": {},
   "source": [
    "### We clean our data\n",
    "- We delete skills with less than two words"
   ]
  },
  {
   "cell_type": "code",
   "execution_count": 21,
   "metadata": {},
   "outputs": [
    {
     "name": "stdout",
     "output_type": "stream",
     "text": [
      "number of appelation before cleaning : 68507\n",
      "number of appelation after cleaning : 56800\n"
     ]
    }
   ],
   "source": [
    "flat_list_app = [item for sublist in Skills.French_only_alt_lower_1 for item in sublist]\n",
    "print(\"number of appelation before cleaning :\",len(list(set(flat_list_app))))\n",
    "\n",
    "Skills['French_only_alt_lower_1_clean'] = Skills.French_only_alt_lower_1.apply(sf.nettoyage_skills)\n",
    "flat_list_app = [item for sublist in Skills.French_only_alt_lower_1_clean for item in sublist]\n",
    "print(\"number of appelation after cleaning :\",len(list(set(flat_list_app))))\n",
    "\n",
    "Skills = Skills[Skills['preferredLabel_y'] != \"Windows Phone\"]\n",
    "Skills.at[int(Skills.index[Skills['preferredLabel_y'] == \"ML (programmation informatique)\"].values)\\\n",
    ",'French_only_alt_lower_1_clean'] = ['machine learning']\n",
    "Skills.at[int(Skills.index[Skills['preferredLabel_y'] == \"traitement automatique du langage naturel\"].values)\\\n",
    ",'French_only_alt_lower_1_clean'] = ['nlp']\n",
    "Skills = Skills[Skills['preferredLabel_y'] != \"ski\"]\n",
    "Skills = Skills[Skills['preferredLabel_y'] != \"Sass\"]\n",
    "Skills = Skills[Skills['preferredLabel_y'] != 'id Tech']\n",
    "### Take only Jt offers that have ESCO jobs\n",
    "JtOffers_matched = JtOffers[JtOffers['ESCO'].apply(lambda x:len(x)>0)]\n"
   ]
  },
  {
   "cell_type": "markdown",
   "metadata": {},
   "source": [
    "#### Add spaces to skills to match them with entities in text that do not start in the middle of a word"
   ]
  },
  {
   "cell_type": "code",
   "execution_count": 72,
   "metadata": {},
   "outputs": [
    {
     "data": {
      "text/plain": [
       "0    [ coordon le tach personnel musical ,  ger per...\n",
       "1    [ ger le procedur penitentiair ,  supervis le ...\n",
       "2    [ appliqu pratiqu non oppress ,  agir manier n...\n",
       "3    [ control respect reglement materiel roul ,  c...\n",
       "4    [ determin le servic disponibl ,  etabl servic...\n",
       "Name: French_only_alt_lower_1_clean, dtype: object"
      ]
     },
     "execution_count": 72,
     "metadata": {},
     "output_type": "execute_result"
    }
   ],
   "source": [
    "def add_space_list(list_alt):\n",
    "    return [sf.add_space(m) for m in list_alt]\n",
    "\n",
    "Skills.French_only_alt_lower_1_clean.head().apply(add_space_list)"
   ]
  },
  {
   "cell_type": "code",
   "execution_count": 73,
   "metadata": {},
   "outputs": [],
   "source": [
    "Skills['French_only_alt_lower_1_clean'] = Skills.French_only_alt_lower_1_clean.apply(add_space_list)"
   ]
  },
  {
   "cell_type": "markdown",
   "metadata": {},
   "source": [
    "# We start our matching between ESCO skills and JT offers"
   ]
  },
  {
   "cell_type": "markdown",
   "metadata": {},
   "source": [
    "## Web Dev\n",
    "- We get all offers matched from JT offers with the ESCO job **Web Dev** (get_desc_esco())\n",
    "- We join all descriptions from these offers into one big string\n",
    "- We Match by key words all the skills from ESCO with the string of description\n",
    "- The result will be stocked in a dictionary with keys representing **Matched skills** and values representing **frequency of appearance**"
   ]
  },
  {
   "cell_type": "code",
   "execution_count": 74,
   "metadata": {},
   "outputs": [
    {
     "name": "stdout",
     "output_type": "stream",
     "text": [
      "Number of Web developer offers : 5957\n"
     ]
    }
   ],
   "source": [
    "### Mathcing 1\n",
    "### load esco for web dev\n",
    "job = \"développeur web/développeuse web\"\n",
    "WEB_Job = JtOffers_matched[JtOffers_matched['ESCO'].apply(lambda x:sf.get_desc_esco(x,job))]\n",
    "print(\"Number of Web developer offers :\",len(WEB_Job))\n",
    "\n",
    "### Matching ESCO JT\n",
    "desc = \" \".join(WEB_Job.description_proc)\n",
    "Dict_Matched = dict()\n",
    "_ = Skills.apply(lambda row:sf.matching_with_apply(row['preferredLabel_y'],row['French_only_alt_lower_1_clean'],desc,Dict_Matched),axis=1)"
   ]
  },
  {
   "cell_type": "markdown",
   "metadata": {},
   "source": [
    "## 1-List of skills found in Web dev Jt offers"
   ]
  },
  {
   "cell_type": "code",
   "execution_count": 30,
   "metadata": {},
   "outputs": [
    {
     "data": {
      "text/plain": [
       "[('Java (programmation informatique)', 3920),\n",
       " ('Python (programmation informatique)', 814),\n",
       " ('Drupal', 479),\n",
       " ('Oracle Data Integrator', 476),\n",
       " ('AJAX', 368),\n",
       " ('SAS language', 331),\n",
       " ('PHP', 292),\n",
       " ('PostgreSQL', 281),\n",
       " ('TypeScript', 246),\n",
       " ('NoSQL', 243),\n",
       " ('LESS', 222),\n",
       " ('CSS', 186),\n",
       " ('modélisation orientée objet', 116),\n",
       " ('JavaScript Framework', 111),\n",
       " ('Swift (programmation informatique)', 103),\n",
       " ('Scala', 85),\n",
       " ('gérer une base de données', 74),\n",
       " ('déploiement de solutions', 68),\n",
       " ('définir des exigences techniques', 67),\n",
       " ('Apache Maven', 62),\n",
       " ('SPARK', 60),\n",
       " ('modèles de données', 51),\n",
       " ('rédiger un cahier des charges', 45),\n",
       " ('programmation informatique', 42),\n",
       " ('collecter les données', 41),\n",
       " ('effectuer une analyse de besoins de clients', 39),\n",
       " ('Hadoop', 39),\n",
       " ('outils de gestion de configuration logicielle', 38),\n",
       " ('utiliser des bases de données', 37),\n",
       " ('Perl', 36),\n",
       " ('travailler de manière autonome', 35),\n",
       " ('répondre aux demandes des clients', 33),\n",
       " ('APL', 32),\n",
       " ('élaborer de nouveaux produits', 29),\n",
       " ('techniques de résolution de problèmes', 28),\n",
       " ('développer des exploits', 25),\n",
       " ('médicaments d’automédication', 24),\n",
       " ('modélisation orientée services', 24),\n",
       " ('cycle de développement logiciel', 23),\n",
       " ('exécuter un test d’intégration', 22),\n",
       " ('philosophies d’amélioration continue', 20),\n",
       " ('systèmes d’aide à la décision', 20),\n",
       " ('structure de l’information', 20),\n",
       " ('Taleo', 20),\n",
       " (\"systèmes d'information géographique\", 19),\n",
       " ('informatique décisionnelle', 19),\n",
       " (\"respecter les spécifications d'un contrat\", 18),\n",
       " ('SPARQL', 18),\n",
       " ('principes de commercialisation', 18),\n",
       " ('stockage de données', 18),\n",
       " ('gestion de la relation client', 17),\n",
       " ('logiciel de création', 17),\n",
       " ('maintenir un serveur', 16),\n",
       " ('gestion des ressources humaines', 15),\n",
       " ('créer des environnements en 3D', 14),\n",
       " ('STAF', 14),\n",
       " ('Adobe Illustrator', 12),\n",
       " ('technologie informatique', 12),\n",
       " ('Jboss', 12),\n",
       " (\"procéder à l'optimisation des moteurs de recherche\", 11),\n",
       " ('interagir verbalement en anglais', 11),\n",
       " ('Interaction homme-machine', 11),\n",
       " ('résoudre des problèmes techniques', 11),\n",
       " ('sciences sociales', 10),\n",
       " ('principes de l’intelligence artificielle', 10),\n",
       " ('gestion de projets par méthode agile', 10),\n",
       " (\"planifier la constitution d'une équipe\", 9),\n",
       " ('communiquer avec des clients', 9),\n",
       " ('réaliser des essais de fonctionnement', 9),\n",
       " ('gestion de portefeuille dans la confection textile', 9),\n",
       " ('élaborer des stratégies d’entreprise', 9),\n",
       " ('JavaScript', 9),\n",
       " ('avoir un esprit créatif', 9),\n",
       " ('méthodes d’assurance qualité', 9),\n",
       " ('gérer un site web', 9),\n",
       " ('Apache Tomcat', 9),\n",
       " ('exploration de données', 9),\n",
       " ('processus d’innovation', 9),\n",
       " ('matériel informatique', 9),\n",
       " ('Joomla', 9),\n",
       " ('Visual Basic', 8),\n",
       " ('entreprise sociale', 8),\n",
       " ('formation en ligne', 8),\n",
       " ('éclairage 3D', 8),\n",
       " ('calcul distribué', 8),\n",
       " ('méthodes de développement de logiciels', 8),\n",
       " ('mobile marketing', 8),\n",
       " ('gérer plusieurs projets à la fois', 7),\n",
       " (\"organiser l'entretien d’avions\", 7),\n",
       " ('techniques d’interface', 7),\n",
       " ('CoffeeScript', 7),\n",
       " ('développement par méthode agile', 7),\n",
       " ('DevOps', 7),\n",
       " ('former des ingénieurs miniers', 6),\n",
       " ('pratiquer des sports', 6),\n",
       " ('réaliser une étude de marché', 6),\n",
       " ('développement par itérations', 6),\n",
       " ('normes de qualité', 6),\n",
       " ('travailler dans un environnement international', 5),\n",
       " ('gestion de projets', 5),\n",
       " ('environnement de développement intégré', 5),\n",
       " ('systèmes de gestion de base de données', 5),\n",
       " ('tenir à jour une base de données', 4),\n",
       " ('vendre des revêtements de sol et de mur', 4),\n",
       " ('DB2', 4),\n",
       " ('assurer la conformité à des spécifications', 4),\n",
       " ('industrie des revêtements de mur et de sol', 4),\n",
       " ('fournir une documentation technique', 4),\n",
       " ('systèmes de gestion de l’apprentissage', 4),\n",
       " ('architecture de l’information', 4),\n",
       " ('organiser des rendez-vous', 3),\n",
       " ('surveiller un lieu de travail', 3),\n",
       " ('transporter des matériaux de construction', 3),\n",
       " ('fournir une expertise technique', 3),\n",
       " ('traiter les commandes de clients', 3),\n",
       " (\"qualité d'articles en cuir\", 3),\n",
       " ('politique de gestion interne des risques', 3),\n",
       " ('faire preuve de curiosité', 3),\n",
       " ('responsabilité sociale des entreprises', 3),\n",
       " ('programmation web', 3),\n",
       " ('fournir des produits personnalisés', 3),\n",
       " ('analyser les exigences des entreprises', 3),\n",
       " ('Erlang', 3),\n",
       " ('technologies émergentes', 3),\n",
       " ('Ansible', 3),\n",
       " ('Ajax Framework', 3),\n",
       " ('système temps réel', 3),\n",
       " ('architectures matérielles', 3),\n",
       " ('ABAP', 3),\n",
       " ('bonnes pratiques de laboratoire', 2),\n",
       " ('analyser des demandes d’indemnisation', 2),\n",
       " ('Oracle Warehouse Builder', 2),\n",
       " ('participer à des réunions de conception', 2),\n",
       " ('créer des éléments visuels', 2),\n",
       " ('mettre en œuvre le suivi des clients', 2),\n",
       " ('élaborer le catalogue des produits', 2),\n",
       " (\"faciliter l'accès à des informations\", 2),\n",
       " ('utiliser Microsoft Office', 2),\n",
       " ('analyser les besoins d’une communauté', 2),\n",
       " (\"superviser l'entretien d'un site\", 2),\n",
       " ('travailler au sein d’équipes sur des lignes d’assemblage', 2),\n",
       " ('jouer des instruments de musique', 2),\n",
       " ('travailler avec des produits chimiques', 2),\n",
       " ('effectuer des recherches dans des bases de données', 2),\n",
       " ('rédiger un cahier des charges de normes de conception', 2),\n",
       " ('génie informatique', 2),\n",
       " ('programmation de systèmes de TIC', 2),\n",
       " ('stockage des dossiers médicaux', 2),\n",
       " ('organiser des événements culturels  festivals et expositions', 2),\n",
       " ('principes d’animation', 2),\n",
       " ('stratégies d’organisation', 2),\n",
       " ('COBOL', 2),\n",
       " ('MarkLogic', 2),\n",
       " ('garantir la satisfaction des clients', 1),\n",
       " ('KDevelop', 1),\n",
       " ('gérer des fournitures', 1),\n",
       " ('concevoir des systèmes électriques', 1),\n",
       " ('entretenir des systèmes de sécurité', 1),\n",
       " ('bonnes pratiques de fabrication', 1),\n",
       " ('impact du changement climatique', 1),\n",
       " ('raconter une histoire', 1),\n",
       " ('appliquer des normes de qualité', 1),\n",
       " ('concevoir des dispositifs médicaux', 1),\n",
       " ('droit de la propriété intellectuelle', 1),\n",
       " ('effectuer une analyse de données', 1),\n",
       " ('coût par clic', 1),\n",
       " ('élaborer des stratégies de communication', 1),\n",
       " (\"eaux locales d'un port\", 1),\n",
       " ('mise en service d’un projet', 1),\n",
       " ('rechercher de nouvelles idées', 1),\n",
       " ('installer un panneau totalisateur', 1),\n",
       " ('entretenir des équipements techniques', 1),\n",
       " ('conception industrielle', 1),\n",
       " ('utiliser des outils informatiques', 1),\n",
       " ('traiter les demandes de renseignements de clients', 1),\n",
       " ('concevoir des systèmes électroniques', 1),\n",
       " ('superviser le fonctionnement d’équipements', 1),\n",
       " ('participer aux soins sous la supervision du personnel infirmier', 1),\n",
       " ('rédiger un plan de vente et de commercialisation', 1),\n",
       " (\"gérer un projet d'ingénierie\", 1),\n",
       " ('gérer du personnel', 1),\n",
       " ('technologie de transmission', 1),\n",
       " (\"diriger d'autres personnes\", 1),\n",
       " (\"faire preuve d'empathie\", 1),\n",
       " (\"analyser des données sur l'environnement\", 1),\n",
       " ('supporter la pression face à l’imprévu', 1),\n",
       " ('organiser des entraînements', 1),\n",
       " ('analyser des stratégies de chaîne d’approvisionnement', 1),\n",
       " ('vendre des services de formation individuelle sur des logiciels', 1),\n",
       " ('réagir avec empathie', 1),\n",
       " ('Unreal Engine', 1),\n",
       " ('réaliser des essais de performance', 1),\n",
       " ('administrer un système de TIC', 1),\n",
       " (\"faire preuve d'enthousiasme\", 1),\n",
       " ('interagir verbalement en allemand', 1),\n",
       " ('normes de sécurité des TIC', 1),\n",
       " ('techniques de marketing numérique', 1),\n",
       " ('fonctionnement des appareils électroniques', 1),\n",
       " ('définir des mesures préventives', 1),\n",
       " ('garantir un service client de qualité', 1),\n",
       " ('développer un prototype de logiciel', 1),\n",
       " ('supporter la pression', 1),\n",
       " ('concevoir les services aux clients', 1),\n",
       " ('évaluer les commentaires des clients', 1),\n",
       " ('outils d’extraction  de transformation et de chargement', 1),\n",
       " ('montrer de la considération', 1),\n",
       " ('proposer des stratégies d’amélioration', 1),\n",
       " ('industrie alimentaire et des boissons', 1),\n",
       " ('réaliser une visite anonyme', 1),\n",
       " ('mettre en œuvre un système de reprise d’activité', 1),\n",
       " ('plateformes matérielles', 1),\n",
       " ('VBScript', 1),\n",
       " ('concevoir une interface utilisateur', 1)]"
      ]
     },
     "execution_count": 30,
     "metadata": {},
     "output_type": "execute_result"
    }
   ],
   "source": [
    "sorted_web = sorted(Dict_Matched.items(), key=sf.operator.itemgetter(1),reverse=True)\n",
    "sorted_web"
   ]
  },
  {
   "cell_type": "markdown",
   "metadata": {},
   "source": [
    "## 2-List of skills proposed by ESCO for Web dev job"
   ]
  },
  {
   "cell_type": "code",
   "execution_count": 33,
   "metadata": {},
   "outputs": [
    {
     "name": "stdout",
     "output_type": "stream",
     "text": [
      "Skills from ESCO for Web Dev : 86\n",
      "Skills from Desc for Web Dev : 213\n",
      "Skills from the two : 31\n",
      "['ABAP', 'AJAX', 'APL', 'ASP.NET', 'Ansible', 'Apache Maven', 'Assembly (programmation informatique)', 'C#', 'C++', 'COBOL', 'CSS', 'CoffeeScript', 'Common Lisp', 'Eclipse (environnement de développement intégré)', 'Erlang', 'Groovy', 'Haskell', 'JSSS', 'Java (programmation informatique)', 'JavaScript', 'Jenkins (outils de gestion de configuration logicielle)', 'KDevelop', 'LESS', 'Lisp', 'MATLAB', 'ML (programmation informatique)', 'Microsoft Visual C++', 'Objective-C', 'OpenEdge Advanced Business Language', 'PHP', 'Pascal (programmation informatique)', 'Perl', 'Prolog (programmation informatique)', 'Puppet (outils de gestion de configuration logicielle)', 'Python (programmation informatique)', 'R', 'Ruby (programmation informatique)', 'SAP R3', 'SAS language', 'STAF', 'Salt (outils de gestion de configuration logicielle)', 'Sass', 'Scala', 'Scratch (programmation informatique)', 'Smalltalk (programmation informatique)', 'Swift (programmation informatique)', 'TypeScript', 'VBScript', 'Visual Basic', 'Xcode', 'analyser les spécifications du logiciel', 'anomalies logicielles', \"composer la description d'éléments web\", 'concevoir une interface utilisateur', 'créer un organigramme de programmation', 'déboguer un logiciel', 'développer des idées créatives', 'développer un prototype de logiciel', 'effectuer un contrôle de la qualité du contenu', 'environnement de développement intégré', 'fournir une documentation technique', 'interpréter des textes techniques', 'langages des feuilles de style', 'législation sur la sécurité des TIC', 'menaces de sécurité des applications web', 'mettre en œuvre le design front end d’un site web', 'modélisation orientée objet', 'outils de débogage TIC', 'outils de gestion de configuration logicielle', 'processus de création de contenu', 'programmation informatique', 'programmation web', 'recueillir\\xa0les commentaires des clients sur des applications', 'standards du\\xa0World\\xa0Wide Web Consortium', 's’adapter aux changements des plans de développement technologique', 'traduire les exigences en conception visuelle', 'transférer des données existantes', 'utiliser des bibliothèques logicielles', 'utiliser des langages de balisage', 'utiliser des outils de conception assistée par ordinateur', 'utiliser des patrons de conception', 'utiliser la programmation automatique', 'utiliser la programmation concurrente', 'utiliser la programmation fonctionnelle', 'utiliser la programmation logique', 'utiliser la programmation orientée objet']\n"
     ]
    }
   ],
   "source": [
    "### ESCO\n",
    "WEB_ESCO = sf.get_skills_job_esco(\"développeur web/développeuse web\")\n",
    "listOfESCOSkills = WEB_ESCO.keys()\n",
    "listOfDescSkills = [m[0] for m in sorted_web]\n",
    "print(\"Skills from ESCO for Web Dev :\",len(listOfESCOSkills))\n",
    "print(\"Skills from Desc for Web Dev :\",len(listOfDescSkills))\n",
    "print(\"Skills from the two :\",len(set(listOfDescSkills).intersection(set(listOfESCOSkills))))\n",
    "print(sorted(listOfESCOSkills))"
   ]
  },
  {
   "cell_type": "markdown",
   "metadata": {},
   "source": [
    "## 3- Intersection Between ESCO and JT offers skills for Web Developer"
   ]
  },
  {
   "cell_type": "code",
   "execution_count": 34,
   "metadata": {},
   "outputs": [
    {
     "data": {
      "text/plain": [
       "{'ABAP',\n",
       " 'AJAX',\n",
       " 'APL',\n",
       " 'Ansible',\n",
       " 'Apache Maven',\n",
       " 'COBOL',\n",
       " 'CSS',\n",
       " 'CoffeeScript',\n",
       " 'Erlang',\n",
       " 'Java (programmation informatique)',\n",
       " 'JavaScript',\n",
       " 'KDevelop',\n",
       " 'LESS',\n",
       " 'PHP',\n",
       " 'Perl',\n",
       " 'Python (programmation informatique)',\n",
       " 'SAS language',\n",
       " 'STAF',\n",
       " 'Scala',\n",
       " 'Swift (programmation informatique)',\n",
       " 'TypeScript',\n",
       " 'VBScript',\n",
       " 'Visual Basic',\n",
       " 'concevoir une interface utilisateur',\n",
       " 'développer un prototype de logiciel',\n",
       " 'environnement de développement intégré',\n",
       " 'fournir une documentation technique',\n",
       " 'modélisation orientée objet',\n",
       " 'outils de gestion de configuration logicielle',\n",
       " 'programmation informatique',\n",
       " 'programmation web'}"
      ]
     },
     "execution_count": 34,
     "metadata": {},
     "output_type": "execute_result"
    }
   ],
   "source": [
    "set(listOfDescSkills).intersection(set(listOfESCOSkills))"
   ]
  },
  {
   "cell_type": "markdown",
   "metadata": {},
   "source": [
    "### To Save to csv results obtained"
   ]
  },
  {
   "cell_type": "code",
   "execution_count": 42,
   "metadata": {},
   "outputs": [
    {
     "name": "stdout",
     "output_type": "stream",
     "text": [
      "                                     Freq ESCO_Match\n",
      "Java (programmation informatique)    3920        OUI\n",
      "Python (programmation informatique)   814        OUI\n",
      "Drupal                                479        NON\n",
      "Oracle Data Integrator                476        NON\n",
      "AJAX                                  368        OUI\n"
     ]
    }
   ],
   "source": [
    "import pandas as pd\n",
    "## to Csv\n",
    "def check_in_esco(x,lista):\n",
    "    if x in lista:\n",
    "        return \"OUI\"\n",
    "    return \"NON\"\n",
    "Web_df = pd.DataFrame.from_dict(Dict_Matched,orient=\"index\",columns=['Freq']).sort_values(by='Freq',ascending = False)\n",
    "Web_df['ESCO_Match'] = Web_df.index.map(lambda x:check_in_esco(x,listOfESCOSkills))\n",
    "print(Web_df.head())\n",
    "#Web_df.to_csv(\"Web_df4.csv\")\n",
    "listt = list(set(listOfDescSkills).intersection(set(listOfESCOSkills)))\n",
    "listo = list(set(WEB_ESCO.keys()) - set(listt))\n",
    "Web_esco = pd.DataFrame({'ESCO': pd.Series(list(WEB_ESCO.keys()))})\n",
    "\n",
    "def check_skill_type(x):\n",
    "    return WEB_ESCO[x]\n",
    "Web_esco['ESCO/JT'] = Web_esco['ESCO'].apply(lambda x:check_in_esco(x,listt))\n",
    "Web_esco['ESCO_type'] = Web_esco['ESCO'].apply(check_skill_type)\n",
    "Web_esco = Web_esco.sort_values(by=\"ESCO_type\")\n",
    "#Web_esco.to_csv(\"Web_esco4.csv\")"
   ]
  },
  {
   "cell_type": "markdown",
   "metadata": {},
   "source": [
    "## graphiste"
   ]
  },
  {
   "cell_type": "code",
   "execution_count": 49,
   "metadata": {},
   "outputs": [
    {
     "name": "stdout",
     "output_type": "stream",
     "text": [
      "Number of graphiste offers : 351\n",
      "Skills from ESCO for graphiste : 50\n",
      "Skills from Desc for graphiste : 39\n",
      "Skills from the two : 2\n"
     ]
    }
   ],
   "source": [
    "### Mathcing 1\n",
    "### load esco for web dev\n",
    "job = \"graphiste\"\n",
    "Graph_Job = JtOffers_matched[JtOffers_matched['ESCO'].apply(lambda x:sf.get_desc_esco(x,job))]\n",
    "print(\"Number of graphiste offers :\",len(Graph_Job))\n",
    "\n",
    "### Matching ESCO JT\n",
    "desc = \" \".join(Graph_Job.description_proc)\n",
    "Dict_Matched = dict()\n",
    "_ = Skills.apply(lambda row:sf.matching_with_apply(row['preferredLabel_y'],row['French_only_alt_lower_1_clean'],desc,Dict_Matched),axis=1)\n",
    "sorted_graph = sorted(Dict_Matched.items(), key=sf.operator.itemgetter(1),reverse=True)\n",
    "### ESCO\n",
    "Graph_ESCO = sf.get_skills_job_esco(\"graphiste\")\n",
    "listOfESCOSkills = Graph_ESCO.keys()\n",
    "listOfDescSkills = [m[0] for m in sorted_graph]\n",
    "print(\"Skills from ESCO for graphiste :\",len(listOfESCOSkills))\n",
    "print(\"Skills from Desc for graphiste :\",len(listOfDescSkills))\n",
    "print(\"Skills from the two :\",len(set(listOfDescSkills).intersection(set(listOfESCOSkills))))"
   ]
  },
  {
   "cell_type": "code",
   "execution_count": 50,
   "metadata": {},
   "outputs": [
    {
     "data": {
      "text/plain": [
       "[('Adobe Illustrator', 69),\n",
       " ('Oracle Data Integrator', 30),\n",
       " ('Java (programmation informatique)', 12),\n",
       " ('STAF', 9),\n",
       " ('collecter les données', 7),\n",
       " (\"respecter les spécifications d'un contrat\", 6),\n",
       " ('SAS language', 6),\n",
       " ('Perl', 5),\n",
       " ('LESS', 5),\n",
       " ('CSS', 4),\n",
       " ('transporter des matériaux de construction', 3),\n",
       " ('trouver des solutions aux problèmes', 2),\n",
       " ('analyser des demandes d’indemnisation', 2),\n",
       " ('travailler de manière autonome', 2),\n",
       " ('souci du détail', 2),\n",
       " ('avoir un esprit créatif', 2),\n",
       " ('optimisation des moteurs de recherche', 2),\n",
       " ('logiciel de création', 2),\n",
       " ('mobile marketing', 2),\n",
       " ('effectuer une analyse de besoins de clients', 1),\n",
       " ('utiliser différents moyens de communication', 1),\n",
       " ('études de communication', 1),\n",
       " ('rechercher de nouvelles idées', 1),\n",
       " ('techniques d’impression textile', 1),\n",
       " ('pratiquer des sports', 1),\n",
       " ('impression offset', 1),\n",
       " ('élaborer de nouveaux produits', 1),\n",
       " ('examiner la maquette d’une publicité', 1),\n",
       " ('développer des idées créatives', 1),\n",
       " ('établir un ordre des tâches', 1),\n",
       " ('interagir verbalement en anglais', 1),\n",
       " ('gérer des événements sportifs', 1),\n",
       " ('concevoir les services aux clients', 1),\n",
       " ('répondre aux demandes des clients', 1),\n",
       " ('Python (programmation informatique)', 1),\n",
       " ('Drupal', 1),\n",
       " ('APL', 1),\n",
       " ('modèles de données', 1),\n",
       " ('Scala', 1)]"
      ]
     },
     "execution_count": 50,
     "metadata": {},
     "output_type": "execute_result"
    }
   ],
   "source": [
    "sorted_graph"
   ]
  },
  {
   "cell_type": "markdown",
   "metadata": {},
   "source": [
    "## DRH"
   ]
  },
  {
   "cell_type": "code",
   "execution_count": 76,
   "metadata": {},
   "outputs": [
    {
     "name": "stdout",
     "output_type": "stream",
     "text": [
      "Number of directeur RH offers : 633\n",
      "Skills from ESCO for DRH : 137\n",
      "Skills from Desc for DRH : 35\n",
      "Skills from the two : 7\n"
     ]
    },
    {
     "name": "stderr",
     "output_type": "stream",
     "text": [
      "/Users/alabayoudh/skillsdb_functions.py:393: SettingWithCopyWarning: \n",
      "A value is trying to be set on a copy of a slice from a DataFrame.\n",
      "Try using .loc[row_indexer,col_indexer] = value instead\n",
      "\n",
      "See the caveats in the documentation: http://pandas.pydata.org/pandas-docs/stable/indexing.html#indexing-view-versus-copy\n",
      "  Skills_for_job = df_relation[df_relation['occupationUri'] == url][['skillUri','relationType']]\n"
     ]
    }
   ],
   "source": [
    "job = 'directeur des ressources humaines/directrice des ressources humaines'\n",
    "RH_Job = JtOffers_matched[JtOffers_matched['ESCO'].apply(lambda x:sf.get_desc_esco(x,job))]\n",
    "print(\"Number of directeur RH offers :\",len(RH_Job))\n",
    "\n",
    "\n",
    "### Matching ESCO JT\n",
    "desc = \" \".join(RH_Job.description_proc)\n",
    "Dict_Matched = dict()\n",
    "_ = Skills.apply(lambda row:sf.matching_with_apply(row['preferredLabel_y'],row['French_only_alt_lower_1_clean'],desc,Dict_Matched),axis=1)\n",
    "sorted_drh = sorted(Dict_Matched.items(), key=sf.operator.itemgetter(1),reverse=True)\n",
    "### ESCO\n",
    "DRH_ESCO = sf.get_skills_job_esco(\"directeur des ressources humaines/directrice des ressources humaines\")\n",
    "listOfESCOSkills = DRH_ESCO.keys()\n",
    "listOfDescSkills = [m[0] for m in sorted_drh]\n",
    "\n",
    "print(\"Skills from ESCO for DRH :\",len(listOfESCOSkills))\n",
    "print(\"Skills from Desc for DRH :\",len(listOfDescSkills))\n",
    "print(\"Skills from the two :\",len(set(listOfDescSkills).intersection(set(listOfESCOSkills))))"
   ]
  },
  {
   "cell_type": "code",
   "execution_count": 77,
   "metadata": {},
   "outputs": [
    {
     "data": {
      "text/plain": [
       "[('gestion des ressources humaines', 142),\n",
       " ('respecter des obligations légales', 10),\n",
       " ('hygiène et sécurité sur le lieu de travail', 9),\n",
       " ('gérer des budgets', 6),\n",
       " (\"appliquer les politiques d'une entreprise\", 5),\n",
       " ('négocier des contrats de travail', 5),\n",
       " ('interagir verbalement en anglais', 4),\n",
       " ('gestion du personnel', 3),\n",
       " ('philosophies d’amélioration continue', 2),\n",
       " (\"élaborer des politiques d'emploi\", 2),\n",
       " ('équipements de protection individuelle', 2),\n",
       " ('porter un équipement de protection contre les bruits industriels', 2),\n",
       " ('assurer le respect de politiques', 2),\n",
       " ('assurer le respect des exigences légales', 2),\n",
       " ('gérer une base de données', 2),\n",
       " ('technologie informatique', 2),\n",
       " ('acheter des stocks de matières premières', 1),\n",
       " ('participer à des réunions de conception', 1),\n",
       " ('répondre aux exigences des pouvoirs publics', 1),\n",
       " ('gérer des situations de soins d’urgence', 1),\n",
       " ('faire preuve de diplomatie', 1),\n",
       " ('gérer la communication entre des équipes', 1),\n",
       " ('conseiller le personnel médical', 1),\n",
       " ('gérer du personnel', 1),\n",
       " (\"diriger d'autres personnes\", 1),\n",
       " ('élaborer des stratégies d’entreprise', 1),\n",
       " ('interagir verbalement en arabe', 1),\n",
       " (\"faire preuve d'enthousiasme\", 1),\n",
       " ('réaliser des enquêtes internes', 1),\n",
       " (\"principes du travail d'équipe\", 1),\n",
       " ('interagir verbalement en portugais', 1),\n",
       " ('interagir verbalement en français', 1),\n",
       " ('interagir verbalement en néerlandais', 1),\n",
       " ('industrie alimentaire et des boissons', 1),\n",
       " ('éclairage 3D', 1)]"
      ]
     },
     "execution_count": 77,
     "metadata": {},
     "output_type": "execute_result"
    }
   ],
   "source": [
    "sorted_drh"
   ]
  },
  {
   "cell_type": "markdown",
   "metadata": {},
   "source": [
    "## We see that there's some technical skills that appears in jobs and do not count as skills\n",
    "- This is probably due to fact that technical skills generally are composed of less characters and sometimes expressed in abbreviations, that's why they match with jobs such as HR\n",
    "- An idea that came to me is to add a function that matches skills without including the tech skills\n",
    "- The problem was that ESCO do not differentiate between tech and non tech skills, so I needed to make an hypothesis after consulting the data\n",
    "- Generally tech skills don't have alternative appellations, so a way to do is to match skills that have at least two appellations other than the preferred label."
   ]
  },
  {
   "cell_type": "code",
   "execution_count": 59,
   "metadata": {},
   "outputs": [
    {
     "name": "stdout",
     "output_type": "stream",
     "text": [
      "Number of directeur RH offers : 633\n",
      "Skills from ESCO for DRH : 137\n",
      "Skills from Desc for DRH : 35\n",
      "Skills from the two : 5\n"
     ]
    },
    {
     "name": "stderr",
     "output_type": "stream",
     "text": [
      "/Users/alabayoudh/skillsdb_functions.py:393: SettingWithCopyWarning: \n",
      "A value is trying to be set on a copy of a slice from a DataFrame.\n",
      "Try using .loc[row_indexer,col_indexer] = value instead\n",
      "\n",
      "See the caveats in the documentation: http://pandas.pydata.org/pandas-docs/stable/indexing.html#indexing-view-versus-copy\n",
      "  Skills_fil['relationType'] = Skills_fil.loc[:,'conceptUri'].apply(lambda x:Skills_for_job[x])\n"
     ]
    }
   ],
   "source": [
    "job = 'directeur des ressources humaines/directrice des ressources humaines'\n",
    "RH_Job = JtOffers_matched[JtOffers_matched['ESCO'].apply(lambda x:sf.get_desc_esco(x,job))]\n",
    "print(\"Number of directeur RH offers :\",len(RH_Job))\n",
    "\n",
    "\n",
    "### Matching ESCO JT\n",
    "desc = \" \".join(RH_Job.description_proc)\n",
    "Dict_Matched = dict()\n",
    "_ = Skills.apply(lambda row:sf.matching_with_apply_tech(row['preferredLabel_y'],row['French_only_alt_lower_1_clean'],desc,Dict_Matched,False),axis=1)\n",
    "sorted_drh = sorted(Dict_Matched.items(), key=sf.operator.itemgetter(1),reverse=True)\n",
    "### ESCO\n",
    "DRH_ESCO = sf.get_skills_job_esco(\"directeur des ressources humaines/directrice des ressources humaines\")\n",
    "listOfESCOSkills = DRH_ESCO.keys()\n",
    "listOfDescSkills = [m[0] for m in sorted_drh]\n",
    "\n",
    "print(\"Skills from ESCO for DRH :\",len(listOfESCOSkills))\n",
    "print(\"Skills from Desc for DRH :\",len(listOfDescSkills))\n",
    "print(\"Skills from the two :\",len(set(listOfDescSkills).intersection(set(listOfESCOSkills))))"
   ]
  },
  {
   "cell_type": "code",
   "execution_count": 60,
   "metadata": {},
   "outputs": [
    {
     "data": {
      "text/plain": [
       "[('gestion des ressources humaines', 150),\n",
       " ('respecter des obligations légales', 10),\n",
       " ('hygiène et sécurité sur le lieu de travail', 9),\n",
       " (\"appliquer les politiques d'une entreprise\", 5),\n",
       " ('négocier des contrats de travail', 5),\n",
       " ('interagir verbalement en anglais', 4),\n",
       " ('gestion du personnel', 3),\n",
       " ('philosophies d’amélioration continue', 2),\n",
       " (\"élaborer des politiques d'emploi\", 2),\n",
       " ('réaliser des services de recrutement', 2),\n",
       " ('équipements de protection individuelle', 2),\n",
       " ('porter un équipement de protection contre les bruits industriels', 2),\n",
       " ('assurer le respect de politiques', 2),\n",
       " ('assurer le respect des exigences légales', 2),\n",
       " (\"faire preuve d'enthousiasme\", 2),\n",
       " ('gérer une base de données', 2),\n",
       " ('concevoir un système d’information', 2),\n",
       " ('technologie informatique', 2),\n",
       " ('travailler dans un environnement international', 1),\n",
       " ('acheter des stocks de matières premières', 1),\n",
       " ('participer à des réunions de conception', 1),\n",
       " ('répondre aux exigences des pouvoirs publics', 1),\n",
       " ('gérer des situations de soins d’urgence', 1),\n",
       " ('gérer la communication entre des équipes', 1),\n",
       " ('élaborer un plan de cours', 1),\n",
       " ('gérer du personnel', 1),\n",
       " (\"diriger d'autres personnes\", 1),\n",
       " ('élaborer des stratégies d’entreprise', 1),\n",
       " ('interagir verbalement en arabe', 1),\n",
       " ('réaliser des enquêtes internes', 1),\n",
       " (\"principes du travail d'équipe\", 1),\n",
       " ('interagir verbalement en portugais', 1),\n",
       " ('interagir verbalement en français', 1),\n",
       " ('interagir verbalement en néerlandais', 1),\n",
       " ('industrie alimentaire et des boissons', 1)]"
      ]
     },
     "execution_count": 60,
     "metadata": {},
     "output_type": "execute_result"
    }
   ],
   "source": [
    "sorted_drh"
   ]
  }
 ],
 "metadata": {
  "kernelspec": {
   "display_name": "Python 3",
   "language": "python",
   "name": "python3"
  },
  "language_info": {
   "codemirror_mode": {
    "name": "ipython",
    "version": 3
   },
   "file_extension": ".py",
   "mimetype": "text/x-python",
   "name": "python",
   "nbconvert_exporter": "python",
   "pygments_lexer": "ipython3",
   "version": "3.6.8"
  }
 },
 "nbformat": 4,
 "nbformat_minor": 2
}
