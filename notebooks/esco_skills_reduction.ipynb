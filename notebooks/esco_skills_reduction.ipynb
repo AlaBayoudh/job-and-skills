{
 "cells": [
  {
   "cell_type": "markdown",
   "metadata": {},
   "source": [
    "### Esco skills reduction\n",
    "- The problem with ESCO skills, is that most of them are very long and detailed and that we can't use them as Tags for users' profiles, we needed to find a way to reduce them into skills with a maximum of 3 words per skill.\n",
    "- The only way to realise this endeavor was to use the dependencies between words, which is the linguistic relation between words in a phrase\n",
    "- We tried to find a pattern that will help us substract only the most relevant part of the phrase\n",
    "- Spacy has a dependency parser that's been useful to our case"
   ]
  },
  {
   "cell_type": "markdown",
   "metadata": {},
   "source": [
    "### here's an example of the dependency parser"
   ]
  },
  {
   "cell_type": "code",
   "execution_count": 2,
   "metadata": {},
   "outputs": [],
   "source": [
    "import skillsdb_functions as sf ## This file contain all function used in this notebook"
   ]
  },
  {
   "cell_type": "code",
   "execution_count": 3,
   "metadata": {},
   "outputs": [
    {
     "name": "stderr",
     "output_type": "stream",
     "text": [
      "/Users/alabayoudh/anaconda3/envs/Python36_env/lib/python3.6/runpy.py:193: UserWarning: [W011] It looks like you're calling displacy.serve from within a Jupyter notebook or a similar environment. This likely means you're already running a local web server, so there's no need to make displaCy start another one. Instead, you should be able to replace displacy.serve with displacy.render to show the visualization.\n",
      "  \"__main__\", mod_spec)\n"
     ]
    },
    {
     "data": {
      "text/html": [
       "<!DOCTYPE html>\n",
       "<html lang=\"en\">\n",
       "    <head>\n",
       "        <title>displaCy</title>\n",
       "    </head>\n",
       "\n",
       "    <body style=\"font-size: 16px; font-family: -apple-system, BlinkMacSystemFont, 'Segoe UI', Helvetica, Arial, sans-serif, 'Apple Color Emoji', 'Segoe UI Emoji', 'Segoe UI Symbol'; padding: 4rem 2rem; direction: ltr\">\n",
       "<figure style=\"margin-bottom: 6rem\">\n",
       "<svg xmlns=\"http://www.w3.org/2000/svg\" xmlns:xlink=\"http://www.w3.org/1999/xlink\" xml:lang=\"en\" id=\"12fb30e1c9e34166b356912c4d6da924-0\" class=\"displacy\" width=\"750\" height=\"312.0\" direction=\"ltr\" style=\"max-width: none; height: 312.0px; color: #000000; background: #ffffff; font-family: Arial; direction: ltr\">\n",
       "<text class=\"displacy-token\" fill=\"currentColor\" text-anchor=\"middle\" y=\"222.0\">\n",
       "    <tspan class=\"displacy-word\" fill=\"currentColor\" x=\"50\">This</tspan>\n",
       "    <tspan class=\"displacy-tag\" dy=\"2em\" fill=\"currentColor\" x=\"50\">DET</tspan>\n",
       "</text>\n",
       "\n",
       "<text class=\"displacy-token\" fill=\"currentColor\" text-anchor=\"middle\" y=\"222.0\">\n",
       "    <tspan class=\"displacy-word\" fill=\"currentColor\" x=\"225\">is</tspan>\n",
       "    <tspan class=\"displacy-tag\" dy=\"2em\" fill=\"currentColor\" x=\"225\">VERB</tspan>\n",
       "</text>\n",
       "\n",
       "<text class=\"displacy-token\" fill=\"currentColor\" text-anchor=\"middle\" y=\"222.0\">\n",
       "    <tspan class=\"displacy-word\" fill=\"currentColor\" x=\"400\">a</tspan>\n",
       "    <tspan class=\"displacy-tag\" dy=\"2em\" fill=\"currentColor\" x=\"400\">DET</tspan>\n",
       "</text>\n",
       "\n",
       "<text class=\"displacy-token\" fill=\"currentColor\" text-anchor=\"middle\" y=\"222.0\">\n",
       "    <tspan class=\"displacy-word\" fill=\"currentColor\" x=\"575\">sentence.</tspan>\n",
       "    <tspan class=\"displacy-tag\" dy=\"2em\" fill=\"currentColor\" x=\"575\">NOUN</tspan>\n",
       "</text>\n",
       "\n",
       "<g class=\"displacy-arrow\">\n",
       "    <path class=\"displacy-arc\" id=\"arrow-12fb30e1c9e34166b356912c4d6da924-0-0\" stroke-width=\"2px\" d=\"M70,177.0 C70,89.5 220.0,89.5 220.0,177.0\" fill=\"none\" stroke=\"currentColor\"/>\n",
       "    <text dy=\"1.25em\" style=\"font-size: 0.8em; letter-spacing: 1px\">\n",
       "        <textPath xlink:href=\"#arrow-12fb30e1c9e34166b356912c4d6da924-0-0\" class=\"displacy-label\" startOffset=\"50%\" side=\"left\" fill=\"currentColor\" text-anchor=\"middle\">nsubj</textPath>\n",
       "    </text>\n",
       "    <path class=\"displacy-arrowhead\" d=\"M70,179.0 L62,167.0 78,167.0\" fill=\"currentColor\"/>\n",
       "</g>\n",
       "\n",
       "<g class=\"displacy-arrow\">\n",
       "    <path class=\"displacy-arc\" id=\"arrow-12fb30e1c9e34166b356912c4d6da924-0-1\" stroke-width=\"2px\" d=\"M420,177.0 C420,89.5 570.0,89.5 570.0,177.0\" fill=\"none\" stroke=\"currentColor\"/>\n",
       "    <text dy=\"1.25em\" style=\"font-size: 0.8em; letter-spacing: 1px\">\n",
       "        <textPath xlink:href=\"#arrow-12fb30e1c9e34166b356912c4d6da924-0-1\" class=\"displacy-label\" startOffset=\"50%\" side=\"left\" fill=\"currentColor\" text-anchor=\"middle\">det</textPath>\n",
       "    </text>\n",
       "    <path class=\"displacy-arrowhead\" d=\"M420,179.0 L412,167.0 428,167.0\" fill=\"currentColor\"/>\n",
       "</g>\n",
       "\n",
       "<g class=\"displacy-arrow\">\n",
       "    <path class=\"displacy-arc\" id=\"arrow-12fb30e1c9e34166b356912c4d6da924-0-2\" stroke-width=\"2px\" d=\"M245,177.0 C245,2.0 575.0,2.0 575.0,177.0\" fill=\"none\" stroke=\"currentColor\"/>\n",
       "    <text dy=\"1.25em\" style=\"font-size: 0.8em; letter-spacing: 1px\">\n",
       "        <textPath xlink:href=\"#arrow-12fb30e1c9e34166b356912c4d6da924-0-2\" class=\"displacy-label\" startOffset=\"50%\" side=\"left\" fill=\"currentColor\" text-anchor=\"middle\">attr</textPath>\n",
       "    </text>\n",
       "    <path class=\"displacy-arrowhead\" d=\"M575.0,179.0 L583.0,167.0 567.0,167.0\" fill=\"currentColor\"/>\n",
       "</g>\n",
       "</svg>\n",
       "</figure>\n",
       "</body>\n",
       "</html>"
      ],
      "text/plain": [
       "<IPython.core.display.HTML object>"
      ]
     },
     "metadata": {},
     "output_type": "display_data"
    },
    {
     "name": "stdout",
     "output_type": "stream",
     "text": [
      "\n",
      "Using the 'dep' visualizer\n",
      "Serving on http://0.0.0.0:5000 ...\n",
      "\n",
      "Shutting down server on port 5000.\n"
     ]
    }
   ],
   "source": [
    "doc = sf.nlp(u\"This is a sentence.\")\n",
    "displacy.serve(doc, style=\"dep\")"
   ]
  },
  {
   "cell_type": "markdown",
   "metadata": {},
   "source": [
    "## compound nouns\n",
    "<img src=\"images/com.png\">"
   ]
  },
  {
   "cell_type": "markdown",
   "metadata": {},
   "source": [
    "## Direct object\n",
    "<img src=\"images/dobj.png\">"
   ]
  },
  {
   "cell_type": "markdown",
   "metadata": {},
   "source": [
    "## Adjectival modifier\n",
    "<img src=\"images/amod.png\">"
   ]
  },
  {
   "cell_type": "markdown",
   "metadata": {},
   "source": [
    "### Redcution process :\n",
    "- After speaking with JobSnow team we decided to fix the length of the skills to 3 words maximum, this provided us with **7605** skills with 3 words or less, and **5849** skills with more than 3.\n",
    "- We applied our algorithm on the **5849** skills, in the link bellow you will find the result of reduction on those preferred labels with 3 seprate ways of reduction (sheet : Reduction 3 separate ways)\n",
    "https://docs.google.com/spreadsheets/d/1tE5zjc2AGhNyeq-0jMC0SPNfjPNXBomAOjJ8E5LEJoI/edit#gid=1171303857\n",
    "- After this step we checked from those skills which ones were still composed of more than 3 words, so we had **692** that we needed to handle manually (sheet :more than 3 words and not reduced skills) .\n",
    "- We didn't include the alternative labels because we feared of the duplicates that it will introduce if we included them, the idea was to consider each reduced form as a new skill, but since alternative labes represents a bigger data set and to test the efficency of our rule base reduction algorithm we applied it on them, the results we found were encouraging, from 60K altenrative appelations we had 47K composed with more than 3 words, after applying our rule based alogrithm, it throwed an exception once because of a very badly formulated skill, but reduced 42K of skills this means  we reached a 90% of reduction. (sheet : Reduction of Alt Labels 3 separate ways).\n",
    "- Les't get back to the preferred labels since we're only using them, after the reduction we found out that the most efficent way was the use of \"compound nouns\"(Preferred labels reduced by compound nouns : 3519,All preferred labels : 5848)\n",
    "- Dobj method uses the first verb of the phrase to catch a direct object inside it(Preferred labels reduced by direct object : 2103,All preferred labels : 5848), we figured that we needed to change the verbs format since skills generaly are defined with nouns(ex :linkedin), for example it's a smother to say \"Team management\" than \"manage team\". The problem we faced is that we don't have a specific rule, to figure if the verb needs to end with \"ing\", like for \"mine oil\" --> \"oil mining\" or with \"ment\" like the previous example. so we decided to do it manually to be assured of the trustworthiness.(sheet : Dobj skills verbs to nouns)\n",
    "- All the stats,visualisations and more examples for the reduction could be found in the **\"visualize skill reduction\"** jupoyter notebook.\n",
    "- After this we focused on the bigger part of our data set, the **7605** skills that have 3 words or less, the verbs problem apears once again since ESCO method to define skills is the use of verbs at the begining in the infinitive form, so same as for Dobj we modified these skills manually (https://docs.google.com/spreadsheets/d/1wX7JsJpUzOa7ux7eUy-ItjXmHlMYtPtQD74p8y6Xqyg/edit#gid=2089402)\n",
    "- We merged all outputs from the reduction methods with other sources of technical and hard skills such as StackOver flow tags and a Wikipedia page containing programming languages (treated in other notebooks)\n"
   ]
  },
  {
   "cell_type": "code",
   "execution_count": 8,
   "metadata": {},
   "outputs": [],
   "source": [
    "Ex_skill = \"perform street interventions in social work\"\n",
    "Ex_skill2 = \"handle customer requests related to cargo\"\n",
    "Ex_skill3 = \"implement data warehousing techniques\""
   ]
  },
  {
   "cell_type": "code",
   "execution_count": 12,
   "metadata": {},
   "outputs": [
    {
     "data": {
      "text/plain": [
       "['street interventions_com',\n",
       " 'perform street interventions_obj',\n",
       " 'social work_amod']"
      ]
     },
     "execution_count": 12,
     "metadata": {},
     "output_type": "execute_result"
    }
   ],
   "source": [
    "sf.function_Separate_ways(Ex_skill)"
   ]
  },
  {
   "cell_type": "code",
   "execution_count": 13,
   "metadata": {},
   "outputs": [
    {
     "data": {
      "text/plain": [
       "['customer requests_com', 'handle customer requests_obj', 'No change']"
      ]
     },
     "execution_count": 13,
     "metadata": {},
     "output_type": "execute_result"
    }
   ],
   "source": [
    "sf.function_Separate_ways(Ex_skill2)"
   ]
  },
  {
   "cell_type": "code",
   "execution_count": 14,
   "metadata": {},
   "outputs": [
    {
     "data": {
      "text/plain": [
       "['data warehousing techniques_com', 'No change', 'No change']"
      ]
     },
     "execution_count": 14,
     "metadata": {},
     "output_type": "execute_result"
    }
   ],
   "source": [
    "sf.function_Separate_ways(Ex_skill3)"
   ]
  }
 ],
 "metadata": {
  "kernelspec": {
   "display_name": "Python 3",
   "language": "python",
   "name": "python3"
  },
  "language_info": {
   "codemirror_mode": {
    "name": "ipython",
    "version": 3
   },
   "file_extension": ".py",
   "mimetype": "text/x-python",
   "name": "python",
   "nbconvert_exporter": "python",
   "pygments_lexer": "ipython3",
   "version": "3.6.8"
  }
 },
 "nbformat": 4,
 "nbformat_minor": 2
}
