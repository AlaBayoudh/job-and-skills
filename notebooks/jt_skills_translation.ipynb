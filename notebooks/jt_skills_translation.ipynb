{
 "cells": [
  {
   "cell_type": "code",
   "execution_count": 5,
   "metadata": {},
   "outputs": [
    {
     "name": "stdout",
     "output_type": "stream",
     "text": [
      "Text: confident\n",
      "Translation: sur de soi\n"
     ]
    }
   ],
   "source": [
    "# Imports the Google Cloud client library\n",
    "from google.cloud import translate\n",
    "\n",
    "# Instantiates a client\n",
    "translate_client = translate.Client()\n",
    "\n",
    "# The text to translate\n",
    "text = \"confident\"\n",
    "# The target language\n",
    "target = 'fr'\n",
    "\n",
    "# Translates some text into french\n",
    "translation = translate_client.translate(\n",
    "    text,\n",
    "    target_language=target)\n",
    "\n",
    "print(u'Text: {}'.format(text))\n",
    "print(u'Translation: {}'.format(translation['translatedText']))"
   ]
  },
  {
   "cell_type": "markdown",
   "metadata": {},
   "source": [
    "## Data "
   ]
  },
  {
   "cell_type": "code",
   "execution_count": 52,
   "metadata": {},
   "outputs": [],
   "source": [
    "import requests\n",
    "from bs4 import BeautifulSoup\n",
    "import pandas as pd\n",
    "### Get final list of skills\n",
    "JTSkills = pd.read_csv(\"data/JTSKILLS.csv\")\n",
    "JTSkills = JTSkills.drop(\"Unnamed: 1\",axis = 1)\n",
    "### Get Stackoveflow tags and wikipedia prog lang\n",
    "Tags = pd.read_csv(\"data/listStackTags.csv\")\n",
    "listOfTags = list(set(Tags[Tags['Manual validation'] == \"yes\"].Tag))\n",
    "### Wikipedia list of lang\n",
    "url = \"https://fr.wikipedia.org/wiki/Liste_de_langages_de_programmation\"\n",
    "page = requests.get(url)\n",
    "soup = BeautifulSoup(page.content, 'html.parser')\n",
    "tb = soup.find_all('div', class_='colonnes')\n",
    "ListOfLang = []\n",
    "for t in tb:\n",
    "    for link in t.find_all('a'):\n",
    "        if len(link.get_text(\"title\").split(\" \")) < 3:\n",
    "            ListOfLang.append(link.get_text(\"title\"))\n",
    "ListOfLang = list(set(ListOfLang))"
   ]
  },
  {
   "cell_type": "markdown",
   "metadata": {},
   "source": [
    "### StackOverflow tags"
   ]
  },
  {
   "cell_type": "code",
   "execution_count": 53,
   "metadata": {},
   "outputs": [
    {
     "name": "stdout",
     "output_type": "stream",
     "text": [
      "['cakephp', 'ecmascript', 'cms', 'interop', 'drupal', 'couchbase', 'daemon', 'netbeans', 'sap', 'math', 'lua', 'bootstrap', 'intel', 'secure shell', 'ide', 'website', 'word', 'lisp', 'nhibernate', 'npm', 'glassfish', 'laravel', 'mvc', 'rspec', 'socketio', 'ninject', '.net', 'bi', 'wpf', 'gwt', 'elm', 'coding', 'spark', 'logstash', 'sdk', 'radio', 'asp', 'cocoa', 'ldap', 'crystal', 'opencv', 'haskell', 'matlab', 'reporting', 'fiware', 'emacs', 'magento', 'oracle', 'networking', 'flask', 'gulp', 'rails', 'sqlite', 'automation', 'html', 'wordpress', 'fortran', 'gnu', 'websphere', 'firebase', 'vim', 'azure', 'swagger', 'opengl', 'kafka', 'groovy', 'prolog', 'sharepoint', 'grunt', 'extjs', 'sas', 'orm', 'crm', 'jsf', 'clojure', 'middleware', 'odoo', 'logging', 'hosting', 'osx', 'gcc', 'eclipse', 'excel', 'scala', 'bluetooth', 'javafx', 'emulator', 'clang', 'mongo', 'indexing', 'junit', 'appcelerator', 'integration', 'webpack', 'phonegap', 'security', 'java', 'xaml', 'ruby', 'deployment', 'intellij', 'perl', 'installshield', 'symfony', 'svn', 'script shell', 'liferay', 'flex', 'cipher', 'openshift', 'iso', 'hardware', 'bash', 'jboss', 'maven', 'sonarqube', 'xcode', 'tizen', 'ios', 'vaadin', 'modx', 'solr', 'sdl', 'akka', 'access', 'jquery', 'tfs', 'esb', 'dbms', 'mysql', 'deploy', 'jdk', 'cordova', 'coldfusion', 'soap', 'mock', 'arm', 'cuda', 'aspnet', 'compression', 'javascript', 'architecture', 'gradle', 'ant', 'couchdb', 'node', 'ajax', 'razor', 'selenium', 'cloud', 'less', 'joomla', 'svg', 'tridion', 'rust', 'ssh', 'episerver', 'github', 'django', 'gui', 'wix', 'doctrine', 'rhino', 'dart', 'cli', 'apache', 'iot', 'php', 'oauth', 'uri', 'jvm', 'realm', 'nodejs', 'llvm', 'webkit', 'redis', 'openstack', 'nunit', 'lite', 'xml', 'postgres', 'mercurial', 'design', 'python', 'ftp', 'assembly', 'redux', 'unity', 'monitoring', 'ssrs', 'sbt', 'iis', 'mongodb', 'react', 'jasmine', 'resharper', 'api', 'powershell', 'android', 'sql', 'spring', 'ssis', 'aws', 'dojo', 'geometry', 'database', 'karma', 'chrome', 'ansible', 'linux', 'streaming', 'odbc', 'safari', 'management', 'angularjs', 'ubuntu', 'async', 'ionic', 'angular', 'cassandra', 'metadata', 'modal', 'scripting', 'servicestack', 'telerik', 'video', 'biztalk', 'swift', 'optimization', 'gpu', 'kotlin', 'parsing', 'mac', 'linq', 'wiki', 'umbraco', 'basic', 'unix', 'postgresql', 'vba', 'typescript', 'arduino', 'jdbc', 'jenkins', 'tomcat', 'playframework', 'dataset', 'css', 'codeigniter', 'hadoop', 'git', 'hibernate', 'firefox', 'sass', 'mongoose', 'msbuild', 'regex', 'fedora', 'silverlight', 'jira', 'workbench', 'api rest', 'js', 'jpa', 'elasticsearch', 'docker', 'lucene']\n"
     ]
    }
   ],
   "source": [
    "print(listOfTags)"
   ]
  },
  {
   "cell_type": "code",
   "execution_count": 54,
   "metadata": {},
   "outputs": [],
   "source": [
    "ListOfLang.remove(\"Python\")\n",
    "ListOfLang.remove(\"JavaScript\")\n",
    "ListOfLang.remove(\"R\")\n",
    "ListOfLang.remove(\"Java\")\n",
    "ListOfLang.remove(\"(en)\")\n",
    "ListOfLang.remove(\"CSS\")\n",
    "ListOfLang.remove(\"SAS\")\n",
    "ListOfLang.remove(\"Dart\")\n",
    "ListOfLang.remove(\"Swift\")\n",
    "ListOfLang.remove(\"Groovy\")\n",
    "ListOfLang.remove(\"BASIC\")\n",
    "ListOfLang.remove(\"MATLAB\")\n",
    "ListOfLang.remove(\"Lua\")\n",
    "ListOfLang.remove(\"Perl\")\n",
    "ListOfLang.remove(\"Scala\")\n",
    "ListOfLang.remove(\"VBA\")\n",
    "ListOfLang.remove(\"Ruby\")\n",
    "ListOfLang.remove(\"TypeScript\")\n",
    "ListOfLang.remove(\"Clojure\")\n",
    "ListOfLang.remove(\"Rust\")\n",
    "ListOfLang.remove(\"Prolog\")\n",
    "ListOfLang.remove(\"Lisp\")\n",
    "ListOfLang.remove(\"Chrome\")\n",
    "ListOfLang.remove(\"PowerShell\")\n",
    "ListOfLang.remove(\"SPARK\")\n",
    "ListOfLang.remove(\"Fortran\")\n",
    "ListOfLang.remove(\"Crystal\")\n",
    "ListOfLang.remove(\"UNITY\")\n",
    "ListOfLang.remove(\"ColdFusion\")\n",
    "ListOfLang.remove(\"Kotlin\")\n",
    "ListOfLang.remove(\"Haskell\")\n",
    "ListOfLang.remove(\"PHP\")\n",
    "ListOfLang.remove(\"C#\")\n",
    "ListOfLang.remove(\"C++\")\n",
    "ListOfLang.remove(\"[title1title]\")\n",
    "ListOfLang.remove(\"[title2title]\")\n",
    "ListOfLang.remove(\"[title3title]\")\n",
    "ListOfLang.remove(\"[title4title]\")\n",
    "ListOfLang.remove(\"[title5title]\")\n",
    "ListOfLang.remove(\"[title6title]\")\n",
    "ListOfLang.remove(\"[title7title]\")\n",
    "ListOfLang.remove(\"[title8title]\")\n",
    "ListOfLang.remove(\"[title9title]\")\n",
    "ListOfLang.remove(\"[title10title]\")\n",
    "ListOfLang.remove(\"[title11title]\")\n",
    "ListOfLang.remove(\"bc\")\n",
    "ListOfLang.append(\"bc (Unix)\")\n",
    "ListOfLang.remove(\"ML\")"
   ]
  },
  {
   "cell_type": "markdown",
   "metadata": {},
   "source": [
    "## Programming languages from wikipedia"
   ]
  },
  {
   "cell_type": "code",
   "execution_count": 55,
   "metadata": {},
   "outputs": [
    {
     "name": "stdout",
     "output_type": "stream",
     "text": [
      "['PLEX', 'Maxima', 'Ace DASL', 'BASICA', 'CHILL', 'CPL', 'Neko', 'NewLISP', 'FLOW-MATIC', 'GM', 'IBM RPG', 'COMAL', 'Linoleum', 'Modula-3', 'PureBasic', 'Promela', 'ABCL/1', 'Godiva', 'Safe C', 'Yoix', 'PL/0', 'Karel', 'Ease', 'Boo', 'BeanShell', 'Epigram', 'Napier88', 'ASP.NET', 'Arobase (langage)', 'NGL', 'Panoramic', 'Redcode', 'T', 'FreeBasic', 'A+', 'Rebol', 'MOO', 'D', 'SAM76', 'MUMPS', 'Assembleur', 'Scilab', 'OmniMark', 'Sed', 'Befunge', 'SPS', 'Green', 'YaBasic', 'DinkC', 'S', 'SystemVerilog', 'GDscript', 'Joule', 'Ratfiv', 'MAD', 'Mary', 'Sawzall', 'Opa', 'Felix', 'Zeno', 'Lush', 'PIKT', 'Down', 'BPEL', 'ICI', 'Dynace', 'Malbolge', 'Mondrian', 'Pico', 'Curl', 'Euler', 'JOSS', 'FoxPro 2', 'Cayenne', 'Datalog', 'Lexico', 'Julia', 'elastiC', 'wxBasic', 'BlitzBasic', 'Curry', 'Sather', 'QtScript', 'Component Pascal', 'ROOP', 'XPL', 'Adenine', 'Winbatch', 'Dylan', 'Suneido', 'Seed7', 'IMP', 'dBase', 'mIRC', 'Topspeed', 'Converge', 'Gibiane', 'Qi', 'Caché ObjectScript', 'EGL', 'G-code', 'CHIP-8', 'Dialect', 'CLIST', 'E', 'NQC', 'MicroAlg', 'LOLCODE', 'Logo', 'Kogut', 'Moby', 'PROIV', 'A++', 'Nu', 'SNUSP', 'J', 'Self', 'Pliant', 'Common Lisp', 'Pascal Objet', 'TTCN', 'LYaPAS', 'GOAL', 'JSP', 'KIF', 'FP', 'Miranda', 'F', 'Franz Lisp', 'Tea', 'Script.NET', 'UnrealScript', 'Water', 'Claire', 'chomski', 'Turbo Basic', 'MDL', 'TAL', 'Goo', 'NESL', 'QBasic', 'Oz', 'Pharo', 'Bistro', 'MAPPER', 'Turbo Pascal', 'S-Lang', 'PowerBasic', 'YAL', 'SiMPLE', 'Ceylon', 'Brainfuck', 'Easytrieve Classic', 'ActForex', 'Visual Adélia', 'BUGSYS', 'QuakeC', 'J#', 'Cosmos-f', 'SMALL', 'CLU', 'Corn', 'Maya (MEL)', 'Orwell', 'Mindscript', 'JOVIAL', 'NewtonScript', 'NXT-G', 'FL', 'Elf', 'N', 'Vvvv', 'Joy', 'Jako', 'axe parser', 'BitC', 'IPTSCRAE', 'Algol W', 'Modula', 'Ladder (LD)', 'Little b', 'GJ', 'Nil', 'Scheme', 'Cobra', 'XOTcl', 'M4', 'Simula', 'TUTOR', 'POP-11', 'rc', 'PL/C', 'Id', 'NEWP', 'Hume', 'A# (Axiom)', 'FOCUS', 'Mercury', 'Neonitisme', 'SyncCharts', 'TXL', 'JADE', 'SBL', 'BCPL', 'Natural', 'PROTEL', 'Tiger', 'G', 'VHDL', 'PostScript', 'TECO', 'Y', 'Go', 'Escapade', 'Anubis', 'Funnel', 'Ariberion', 'Afnix', 'CobolScript', 'Cubescript', 'ORCA/Modula-2', 'Fortress', 'C', 'CSS 3', 'Inform', 'Averest', 'HLSL', 'unityscript', 'Terra', 'Span', 'Transact-SQL', 'Emacs Lisp', 'JASS', 'Cyclone', 'Whitespace', 'AppleScript', 'AMOS', 'S2', 'Bigwig', 'Io', 'occam-p', 'CA-Telon', 'PL/I', 'ProvideX', 'Ubercode', 'Fuxi', 'Visual Objects', 'F-Script', 'MPD', 'TOM', 'Cola', 'Bennu', 'Visual FoxPro', 'TPU', 'SuperCollider', 'DaKeoZ', 'FOIL', 'MIMIC', 'eDeveloper', 'Thue', 'HyperTalk', 'Delphi', 'L', 'SYMPL', 'MARK-IV', 'CHR', 'SPITBOL', 'CODE', 'IBM Informix-4GL', 'Clarion', 'Trac', 'PL/M', 'ColdC', 'GAMS', 'Einstein', 'Eiffel', 'DarkBasic', 'AutoHotkey', 'Linotte', 'Ferite', 'BuildProfessional', 'Euclid', 'AML', 'GOTRAN', 'Spice', 'Nit', 'AIS Balise', 'LINC', 'JAL', 'Limnor', 'Erlang', 'ABAP', 'NPL', 'Gambas', 'GLSL', 'MillScript', 'Obol', 'ABAL++', 'LZX', 'Mouse', 'PCASTL', 'PowerBuilder', 'V', 'Zonnon', 'PCF', 'A-0 System', 'Onyx', 'IL', 'ISWIM', 'PL/P', 'Prograph', 'REFAL', 'Hack', 'Abundance', 'Oak', 'Lagoona', 'L# .NET', 'SmallBasic', 'EXEC 2', 'SML', 'Cg', 'TI-Extended Basic', 'Edinburgh IMP', 'COBOL', 'Pascal', 'Leda', 'X++', 'False', 'Windows PowerShell', 'MetaL', 'Object Lisp', 'Visual DataFlex', 'SASL', 'MPP', 'Lustre', 'Visual Basic', 'Charity', 'MisterDev', 'Kafe', 'Ambi', 'min', 'Nickle', 'COMIT', 'Boomerang', 'Strand', 'SA-C', 'TACPOL', 'Etoys', 'C--', 'Arc', 'Englesi', 'Objective-C', 'Red', 'Z notation', 'PEARL', 'Falcon', 'Cesil', 'Mythryl', 'PLANC', 'Accent', 'CL', 'Go!', 'B', 'FSProg', 'WLangage (WinDev)', 'XBL', 'Ada', 'Ch interpreter', 'Fan', 'NetLogo', 'Blue', 'VBScript', 'FAUST', 'LANSA', 'True Basic', 'Chef', 'CIL', 'APDL', 'SSL', 'GW-Basic', 'GPSS', 'RSL', 'KRYPTON', 'Coral 66', 'Pizza', 'COMPASS', 'Pike', 'CICODE', 'Scratch', 'Net.Data', 'BETA', 'GAP (RGP)', 'GFA BASIC', 'OPS5', 'Powerhouse', 'FOCAL', 'PLEXIL', 'Janus', 'ABC', 'PARI/GP', 'Portal', 'Objective-J', 'ZZT-oop', 'ZOPL', 'X#', 'Bon', 'PL/SQL', 'Q', 'NXC', 'SPIN', 'ALI', 'Duke C', 'ObjectLOGO', 'Snow', 'TELCOMP', 'MIIS', 'USE', 'CMS-2', 'GRASS', 'Obliq', 'INTERCAL', 'Fantom', 'QPL', 'Abel', 'WebQL', 'Cecil', 'Rapira', 'ECMAScript', 'XPL0', 'Hop', 'ATS', 'Microcode', 'Oxygene', 'DataFlex', 'Nyquist', 'Mathematica', 'Limbo', 'dc', 'occam', 'Cilk', 'RBScript', 'Maple', 'Hope', 'Nice', 'ABSYS', 'IPL', 'Clean', 'R++', 'CorVision', 'MSX BASIC', 'CFML', 'MicroScript', 'LARP', 'Proteus', 'Kaya', 'Lingo', 'Node.js', 'SR', 'PL360', 'SETL', 'KEE', 'SP/k', 'Slate', 'Grammer', 'LPC', 'Unicon', 'Q#', 'Squirrel', 'Fly', 'Lucid', 'Legoscript', 'Ioke', 'Subtext', 'uniPaaS', 'Vala', 'CMS EXEC', 'DCL', 'RPG', 'Chapel', 'A# .NET', 'TeX', 'Kaleidoscope', 'Kiev', 'SIMPOL', 'STOS BASIC', 'TADS', 'Piet', 'WATFIV, WATFOR', 'Ratfor', 'Shift Script', 'ABCL/c+', 'Pi-calcul', 'LSL', 'Magik', 'LIS', 'Escher', 'Amiga E', 'SOL', 'FORMAC', 'Cel', 'Haxe', 'Algol 68', 'LabVIEW', 'Pure', 'ABCL/R', 'TEX', 'Mesa', 'KRC', 'Revolution', 'SISAL', 'CHAIN', 'Lynx', 'S3', 'LSE', 'SAC', 'Tcl', 'C/AL', 'Visual DialogScript', 'Cameleon', 'CSP', 'Moto', 'Mortran', 'Reia', 'Poplog', 'Pict', 'Yorick', 'GOTO++', 'Algol 60', 'XQuery', 'TACL', 'OpenEdge ABL', 'DarkBASIC', 'Csound', 'PL/B', 'Snap!', 'Caml', 'Euphoria', 'AutoIt', 'PortablE', 'Dialog Manager', 'Snowball', 'ABAL', 'Leadwerks Script', 'MSL', 'Oberon', 'Clipper', 'awk', 'Karel++', 'Gödel', 'Easytrieve Plus', 'Processing', 'REXX', 'GDL', 'Scol', 'Verilog', 'BLISS', 'Bertrand', 'SAIL', 'TenCORE', 'Nemerle', 'ABCL/R2', 'ACT-III', 'Phrogram', 'Nial', 'Cat', 'SNOBOL', 'Ticol', 'MSIL (CIL)', 'Plankalkül', 'PL-11', 'Aikido', 'Unlambda', 'xHarbour', 'Lava', 'F#', 'Rlab', 'CoffeeScript', 'ABSET', 'Lisaac', 'JEAN', 'Squeak', 'COWSEL', 'Icon', 'Turing', 'Bosque', 'NBC', 'ZPL', 'Dao', 'Signal', 'HAL/S', 'Fjölnir', 'NEAT chipset', 'ChucK', 'Ork', 'SIMSCRIPT', 'Pawn', 'SLIP', 'TI-Basic', 'FFP', 'OPL', 'Coq', 'Kite', 'o:XML', 'Uniface', 'DIBOL', 'Alef', 'Hugo', 'Timber', 'ooc', 'MapBasic', 'EASY', 'GraphTalk', 'Tom', '@Formula', 'Smalltalk', 'QML', 'Extends', 'XSLT', 'QuickBasic', 'Flavors', 'LISA', 'Unix shell', 'M', 'SALSA', 'Factor', 'RPL', 'TIE', 'Cool', 'Lithe', 'Fancy', 'Opal', 'AMPLE', 'PILOT', 'KUKA', 'PPL', 'XL', 'APL', 'Deesel', 'Modula-2', 'Magma', 'Model 204', 'X10', 'Elan', 'Lasso', 'Forth', 'Esterel', 'Miva Script', 'Join Java', 'bc (Unix)']\n"
     ]
    }
   ],
   "source": [
    "print(ListOfLang)"
   ]
  },
  {
   "cell_type": "code",
   "execution_count": 56,
   "metadata": {},
   "outputs": [],
   "source": [
    "ListOfHardSkills = ListOfLang + listOfTags\n",
    "ListOfHardSkills_lower = [m.lower() for m in ListOfHardSkills]"
   ]
  },
  {
   "cell_type": "code",
   "execution_count": 59,
   "metadata": {},
   "outputs": [],
   "source": [
    "JTSkills.Skills = JTSkills.Skills.astype(str)\n",
    "JTSkills['Skills_to_translate'] = JTSkills.Skills.apply(lambda x:x if x.lower() not in ListOfHardSkills_lower else x + \"_NT\")"
   ]
  },
  {
   "cell_type": "code",
   "execution_count": 66,
   "metadata": {},
   "outputs": [
    {
     "data": {
      "text/html": [
       "<div>\n",
       "<style scoped>\n",
       "    .dataframe tbody tr th:only-of-type {\n",
       "        vertical-align: middle;\n",
       "    }\n",
       "\n",
       "    .dataframe tbody tr th {\n",
       "        vertical-align: top;\n",
       "    }\n",
       "\n",
       "    .dataframe thead th {\n",
       "        text-align: right;\n",
       "    }\n",
       "</style>\n",
       "<table border=\"1\" class=\"dataframe\">\n",
       "  <thead>\n",
       "    <tr style=\"text-align: right;\">\n",
       "      <th></th>\n",
       "      <th>Skills</th>\n",
       "      <th>Skills_to_translate</th>\n",
       "    </tr>\n",
       "  </thead>\n",
       "  <tbody>\n",
       "    <tr>\n",
       "      <th>7908</th>\n",
       "      <td>Cameleon</td>\n",
       "      <td>Cameleon_NT</td>\n",
       "    </tr>\n",
       "    <tr>\n",
       "      <th>7253</th>\n",
       "      <td>Gradle</td>\n",
       "      <td>Gradle_NT</td>\n",
       "    </tr>\n",
       "    <tr>\n",
       "      <th>5620</th>\n",
       "      <td>Excel</td>\n",
       "      <td>Excel_NT</td>\n",
       "    </tr>\n",
       "    <tr>\n",
       "      <th>8136</th>\n",
       "      <td>axe parser</td>\n",
       "      <td>axe parser_NT</td>\n",
       "    </tr>\n",
       "    <tr>\n",
       "      <th>7586</th>\n",
       "      <td>ChucK</td>\n",
       "      <td>ChucK_NT</td>\n",
       "    </tr>\n",
       "    <tr>\n",
       "      <th>8648</th>\n",
       "      <td>Bennu</td>\n",
       "      <td>Bennu_NT</td>\n",
       "    </tr>\n",
       "    <tr>\n",
       "      <th>4220</th>\n",
       "      <td>Github</td>\n",
       "      <td>Github_NT</td>\n",
       "    </tr>\n",
       "    <tr>\n",
       "      <th>2647</th>\n",
       "      <td>LINC</td>\n",
       "      <td>LINC_NT</td>\n",
       "    </tr>\n",
       "    <tr>\n",
       "      <th>6491</th>\n",
       "      <td>Cyclone</td>\n",
       "      <td>Cyclone_NT</td>\n",
       "    </tr>\n",
       "    <tr>\n",
       "      <th>3089</th>\n",
       "      <td>mIRC</td>\n",
       "      <td>mIRC_NT</td>\n",
       "    </tr>\n",
       "  </tbody>\n",
       "</table>\n",
       "</div>"
      ],
      "text/plain": [
       "          Skills Skills_to_translate\n",
       "7908    Cameleon         Cameleon_NT\n",
       "7253      Gradle           Gradle_NT\n",
       "5620       Excel            Excel_NT\n",
       "8136  axe parser       axe parser_NT\n",
       "7586       ChucK            ChucK_NT\n",
       "8648       Bennu            Bennu_NT\n",
       "4220      Github           Github_NT\n",
       "2647        LINC             LINC_NT\n",
       "6491     Cyclone          Cyclone_NT\n",
       "3089        mIRC             mIRC_NT"
      ]
     },
     "execution_count": 66,
     "metadata": {},
     "output_type": "execute_result"
    }
   ],
   "source": [
    "JTSkills[JTSkills.Skills_to_translate.str.contains(\"_NT\")].sample(10)"
   ]
  },
  {
   "cell_type": "code",
   "execution_count": 67,
   "metadata": {},
   "outputs": [
    {
     "data": {
      "text/html": [
       "<div>\n",
       "<style scoped>\n",
       "    .dataframe tbody tr th:only-of-type {\n",
       "        vertical-align: middle;\n",
       "    }\n",
       "\n",
       "    .dataframe tbody tr th {\n",
       "        vertical-align: top;\n",
       "    }\n",
       "\n",
       "    .dataframe thead th {\n",
       "        text-align: right;\n",
       "    }\n",
       "</style>\n",
       "<table border=\"1\" class=\"dataframe\">\n",
       "  <thead>\n",
       "    <tr style=\"text-align: right;\">\n",
       "      <th></th>\n",
       "      <th>Skills</th>\n",
       "      <th>Skills_to_translate</th>\n",
       "    </tr>\n",
       "  </thead>\n",
       "  <tbody>\n",
       "    <tr>\n",
       "      <th>4224</th>\n",
       "      <td>DinkC</td>\n",
       "      <td>DinkC_NT</td>\n",
       "    </tr>\n",
       "    <tr>\n",
       "      <th>8325</th>\n",
       "      <td>S</td>\n",
       "      <td>S_NT</td>\n",
       "    </tr>\n",
       "    <tr>\n",
       "      <th>2675</th>\n",
       "      <td>GAP (RGP)</td>\n",
       "      <td>GAP (RGP)_NT</td>\n",
       "    </tr>\n",
       "    <tr>\n",
       "      <th>5452</th>\n",
       "      <td>Prolog</td>\n",
       "      <td>Prolog_NT</td>\n",
       "    </tr>\n",
       "    <tr>\n",
       "      <th>6099</th>\n",
       "      <td>Access</td>\n",
       "      <td>Access_NT</td>\n",
       "    </tr>\n",
       "    <tr>\n",
       "      <th>8918</th>\n",
       "      <td>Android</td>\n",
       "      <td>Android_NT</td>\n",
       "    </tr>\n",
       "    <tr>\n",
       "      <th>9070</th>\n",
       "      <td>Napier88</td>\n",
       "      <td>Napier88_NT</td>\n",
       "    </tr>\n",
       "    <tr>\n",
       "      <th>7125</th>\n",
       "      <td>TEX</td>\n",
       "      <td>TEX_NT</td>\n",
       "    </tr>\n",
       "    <tr>\n",
       "      <th>7032</th>\n",
       "      <td>Ork</td>\n",
       "      <td>Ork_NT</td>\n",
       "    </tr>\n",
       "    <tr>\n",
       "      <th>10423</th>\n",
       "      <td>XOTcl</td>\n",
       "      <td>XOTcl_NT</td>\n",
       "    </tr>\n",
       "  </tbody>\n",
       "</table>\n",
       "</div>"
      ],
      "text/plain": [
       "          Skills Skills_to_translate\n",
       "4224       DinkC            DinkC_NT\n",
       "8325           S                S_NT\n",
       "2675   GAP (RGP)        GAP (RGP)_NT\n",
       "5452      Prolog           Prolog_NT\n",
       "6099      Access           Access_NT\n",
       "8918     Android          Android_NT\n",
       "9070    Napier88         Napier88_NT\n",
       "7125         TEX              TEX_NT\n",
       "7032         Ork              Ork_NT\n",
       "10423      XOTcl            XOTcl_NT"
      ]
     },
     "execution_count": 67,
     "metadata": {},
     "output_type": "execute_result"
    }
   ],
   "source": [
    "JTSkills[JTSkills.Skills_to_translate.str.contains(\"_NT\")].sample(10)"
   ]
  },
  {
   "cell_type": "markdown",
   "metadata": {},
   "source": [
    "## Translation for 8 langages"
   ]
  },
  {
   "cell_type": "markdown",
   "metadata": {},
   "source": [
    "- Français  fr\n",
    "- Allemand\tde\n",
    "- Espagnol\tes\n",
    "- Italien\tit\n",
    "- Polonais\tpl\n",
    "- Catalan\tca\n",
    "- Néerlandais\tnl\n",
    "- Portugais \tpt"
   ]
  },
  {
   "cell_type": "code",
   "execution_count": 69,
   "metadata": {},
   "outputs": [
    {
     "name": "stdout",
     "output_type": "stream",
     "text": [
      "Text: Nuclear physics\n",
      "Translation: Física nuclear\n"
     ]
    }
   ],
   "source": [
    "# The text to translate\n",
    "text = \"Nuclear physics\"\n",
    "# The target language\n",
    "target = 'pt'\n",
    "\n",
    "# Translates some text into french\n",
    "translation = translate_client.translate(\n",
    "    text,\n",
    "    target_language=target)\n",
    "\n",
    "print(u'Text: {}'.format(text))\n",
    "print(u'Translation: {}'.format(translation['translatedText']))"
   ]
  },
  {
   "cell_type": "code",
   "execution_count": 70,
   "metadata": {},
   "outputs": [
    {
     "name": "stdout",
     "output_type": "stream",
     "text": [
      "Text: Nuclear physics\n",
      "Translation: Kernphysik\n"
     ]
    }
   ],
   "source": [
    "# The text to translate\n",
    "text = \"Nuclear physics\"\n",
    "# The target language\n",
    "target = 'de'\n",
    "\n",
    "# Translates some text into french\n",
    "translation = translate_client.translate(\n",
    "    text,\n",
    "    target_language=target)\n",
    "\n",
    "print(u'Text: {}'.format(text))\n",
    "print(u'Translation: {}'.format(translation['translatedText']))"
   ]
  },
  {
   "cell_type": "markdown",
   "metadata": {},
   "source": [
    "### Translation function"
   ]
  },
  {
   "cell_type": "code",
   "execution_count": 7,
   "metadata": {},
   "outputs": [],
   "source": [
    "translate_client = translate.Client()\n",
    "def Translation(Text,target_lang):\n",
    "    if \"_NT\" not in Text:\n",
    "        try:\n",
    "            translation = translate_client.translate(Text,target_language=target_lang)\n",
    "            return translation['translatedText']\n",
    "        except Exception as e:\n",
    "            print(Text,target_lang)\n",
    "            print(\"Exception :\",e)\n",
    "            return \"UndT\"\n",
    "    else:\n",
    "        return Text"
   ]
  },
  {
   "cell_type": "code",
   "execution_count": 77,
   "metadata": {},
   "outputs": [
    {
     "name": "stdout",
     "output_type": "stream",
     "text": [
      "Exception : ('Connection aborted.', ConnectionResetError(54, 'Connection reset by peer'))\n"
     ]
    }
   ],
   "source": [
    "JTSkills['fr'] = JTSkills.Skills_to_translate.apply(lambda x:Translation(x,'fr'))\n",
    "JTSkills['de'] = JTSkills.Skills_to_translate.apply(lambda x:Translation(x,'de'))\n",
    "JTSkills['es'] = JTSkills.Skills_to_translate.apply(lambda x:Translation(x,'es'))\n",
    "JTSkills['it'] = JTSkills.Skills_to_translate.apply(lambda x:Translation(x,'it'))\n",
    "JTSkills['pl'] = JTSkills.Skills_to_translate.apply(lambda x:Translation(x,'pl'))\n",
    "JTSkills['nl'] = JTSkills.Skills_to_translate.apply(lambda x:Translation(x,'nl'))\n",
    "JTSkills['pt'] = JTSkills.Skills_to_translate.apply(lambda x:Translation(x,'pt'))\n",
    "JTSkills['ca'] = JTSkills.Skills_to_translate.apply(lambda x:Translation(x,'ca'))"
   ]
  },
  {
   "cell_type": "code",
   "execution_count": 82,
   "metadata": {},
   "outputs": [],
   "source": [
    "JTSkills = JTSkills.drop_duplicates()\n",
    "JTSkills = JTSkills[JTSkills['Skills'] != \"nan\"]"
   ]
  },
  {
   "cell_type": "code",
   "execution_count": 90,
   "metadata": {},
   "outputs": [
    {
     "data": {
      "text/plain": [
       "0             Cartes stratégiques\n",
       "1                         Carnets\n",
       "2             Voiture automatique\n",
       "3    Logiciel d&#39;édition audio\n",
       "4                Fonctions de vol\n",
       "Name: fr, dtype: object"
      ]
     },
     "execution_count": 90,
     "metadata": {},
     "output_type": "execute_result"
    }
   ],
   "source": [
    "JTSkills['fr'].head()"
   ]
  },
  {
   "cell_type": "code",
   "execution_count": 93,
   "metadata": {},
   "outputs": [
    {
     "data": {
      "text/plain": [
       "0           Strategische Karten\n",
       "1                     Logbücher\n",
       "2            Automatisches Auto\n",
       "3    Audio-Bearbeitungssoftware\n",
       "4                  Flugaufgaben\n",
       "Name: de, dtype: object"
      ]
     },
     "execution_count": 93,
     "metadata": {},
     "output_type": "execute_result"
    }
   ],
   "source": [
    "JTSkills['de'].head()"
   ]
  },
  {
   "cell_type": "code",
   "execution_count": 100,
   "metadata": {},
   "outputs": [
    {
     "data": {
      "text/plain": [
       "0            Mappe strategiche\n",
       "1            Giornali di bordo\n",
       "2          Macchina automatica\n",
       "3    Software di editing audio\n",
       "4               Doveri di volo\n",
       "Name: it, dtype: object"
      ]
     },
     "execution_count": 100,
     "metadata": {},
     "output_type": "execute_result"
    }
   ],
   "source": [
    "JTSkills['it'].head()"
   ]
  },
  {
   "cell_type": "code",
   "execution_count": 104,
   "metadata": {},
   "outputs": [
    {
     "data": {
      "text/plain": [
       "0                 Mapy strategiczne\n",
       "1                         Dzienniki\n",
       "2             Automatyczny samochód\n",
       "3    Oprogramowanie do edycji audio\n",
       "4                Obowiązki lotnicze\n",
       "Name: pl, dtype: object"
      ]
     },
     "execution_count": 104,
     "metadata": {},
     "output_type": "execute_result"
    }
   ],
   "source": [
    "JTSkills['pl'].head()"
   ]
  },
  {
   "cell_type": "code",
   "execution_count": 112,
   "metadata": {},
   "outputs": [
    {
     "data": {
      "text/plain": [
       "\" Logiciel d'édition audio\""
      ]
     },
     "execution_count": 112,
     "metadata": {},
     "output_type": "execute_result"
    }
   ],
   "source": [
    "new_desc = BeautifulSoup(\"Logiciel d&#39;édition audio\",\"html.parser\").get_text()\n",
    "new_desc"
   ]
  },
  {
   "cell_type": "code",
   "execution_count": 113,
   "metadata": {},
   "outputs": [],
   "source": [
    "JTSkills.fr = JTSkills.fr.apply(lambda x:BeautifulSoup(x,\"html.parser\").get_text())"
   ]
  },
  {
   "cell_type": "code",
   "execution_count": 12,
   "metadata": {},
   "outputs": [
    {
     "data": {
      "text/plain": [
       "0              Mapes estratègics\n",
       "1               Llibres de taula\n",
       "2                Cotxe automàtic\n",
       "3    Programari d'edició d'àudio\n",
       "4                  Deures de vol\n",
       "Name: ca, dtype: object"
      ]
     },
     "execution_count": 12,
     "metadata": {},
     "output_type": "execute_result"
    }
   ],
   "source": [
    "JTSkills['ca']= JTSkills['ca'].apply(lambda x:BeautifulSoup(x,\"html.parser\").get_text())\n",
    "JTSkills['ca'].head()"
   ]
  },
  {
   "cell_type": "code",
   "execution_count": 14,
   "metadata": {},
   "outputs": [
    {
     "data": {
      "text/plain": [
       "0            Strategische kaarten\n",
       "1                       Logboeken\n",
       "2               Automatische auto\n",
       "3    Software voor audiobewerking\n",
       "4                     Vluchttaken\n",
       "Name: nl, dtype: object"
      ]
     },
     "execution_count": 14,
     "metadata": {},
     "output_type": "execute_result"
    }
   ],
   "source": [
    "JTSkills['nl'].head()"
   ]
  },
  {
   "cell_type": "code",
   "execution_count": 16,
   "metadata": {},
   "outputs": [
    {
     "data": {
      "text/html": [
       "<div>\n",
       "<style scoped>\n",
       "    .dataframe tbody tr th:only-of-type {\n",
       "        vertical-align: middle;\n",
       "    }\n",
       "\n",
       "    .dataframe tbody tr th {\n",
       "        vertical-align: top;\n",
       "    }\n",
       "\n",
       "    .dataframe thead th {\n",
       "        text-align: right;\n",
       "    }\n",
       "</style>\n",
       "<table border=\"1\" class=\"dataframe\">\n",
       "  <thead>\n",
       "    <tr style=\"text-align: right;\">\n",
       "      <th></th>\n",
       "      <th>Skills</th>\n",
       "      <th>Skills_to_translate</th>\n",
       "      <th>fr</th>\n",
       "      <th>de</th>\n",
       "      <th>es</th>\n",
       "      <th>it</th>\n",
       "      <th>pl</th>\n",
       "      <th>ca</th>\n",
       "      <th>nl</th>\n",
       "      <th>pt</th>\n",
       "    </tr>\n",
       "  </thead>\n",
       "  <tbody>\n",
       "    <tr>\n",
       "      <th>0</th>\n",
       "      <td>Strategic maps</td>\n",
       "      <td>Strategic maps</td>\n",
       "      <td>Cartes stratégiques</td>\n",
       "      <td>Strategische Karten</td>\n",
       "      <td>Mapas estratégicos</td>\n",
       "      <td>Mappe strategiche</td>\n",
       "      <td>Mapy strategiczne</td>\n",
       "      <td>Mapes estratègics</td>\n",
       "      <td>Strategische kaarten</td>\n",
       "      <td>Mapas estratégicos</td>\n",
       "    </tr>\n",
       "    <tr>\n",
       "      <th>1</th>\n",
       "      <td>Logbooks</td>\n",
       "      <td>Logbooks</td>\n",
       "      <td>Carnets</td>\n",
       "      <td>Logbücher</td>\n",
       "      <td>Libros de registro</td>\n",
       "      <td>Giornali di bordo</td>\n",
       "      <td>Dzienniki</td>\n",
       "      <td>Llibres de taula</td>\n",
       "      <td>Logboeken</td>\n",
       "      <td>Logbooks</td>\n",
       "    </tr>\n",
       "    <tr>\n",
       "      <th>2</th>\n",
       "      <td>Automatic car</td>\n",
       "      <td>Automatic car</td>\n",
       "      <td>Voiture automatique</td>\n",
       "      <td>Automatisches Auto</td>\n",
       "      <td>Coche automático</td>\n",
       "      <td>Macchina automatica</td>\n",
       "      <td>Automatyczny samochód</td>\n",
       "      <td>Cotxe automàtic</td>\n",
       "      <td>Automatische auto</td>\n",
       "      <td>Carro automático</td>\n",
       "    </tr>\n",
       "    <tr>\n",
       "      <th>3</th>\n",
       "      <td>Audio editing software</td>\n",
       "      <td>Audio editing software</td>\n",
       "      <td>Logiciel d'édition audio</td>\n",
       "      <td>Audio-Bearbeitungssoftware</td>\n",
       "      <td>Software de edición de audio</td>\n",
       "      <td>Software di editing audio</td>\n",
       "      <td>Oprogramowanie do edycji audio</td>\n",
       "      <td>Programari d'edició d'àudio</td>\n",
       "      <td>Software voor audiobewerking</td>\n",
       "      <td>Software de edição de áudio</td>\n",
       "    </tr>\n",
       "    <tr>\n",
       "      <th>4</th>\n",
       "      <td>Flight duties</td>\n",
       "      <td>Flight duties</td>\n",
       "      <td>Fonctions de vol</td>\n",
       "      <td>Flugaufgaben</td>\n",
       "      <td>Deberes de vuelo</td>\n",
       "      <td>Doveri di volo</td>\n",
       "      <td>Obowiązki lotnicze</td>\n",
       "      <td>Deures de vol</td>\n",
       "      <td>Vluchttaken</td>\n",
       "      <td>Deveres de voo</td>\n",
       "    </tr>\n",
       "  </tbody>\n",
       "</table>\n",
       "</div>"
      ],
      "text/plain": [
       "                   Skills     Skills_to_translate                        fr  \\\n",
       "0          Strategic maps          Strategic maps       Cartes stratégiques   \n",
       "1                Logbooks                Logbooks                   Carnets   \n",
       "2           Automatic car           Automatic car       Voiture automatique   \n",
       "3  Audio editing software  Audio editing software  Logiciel d'édition audio   \n",
       "4           Flight duties           Flight duties          Fonctions de vol   \n",
       "\n",
       "                           de                            es  \\\n",
       "0         Strategische Karten            Mapas estratégicos   \n",
       "1                   Logbücher            Libros de registro   \n",
       "2          Automatisches Auto              Coche automático   \n",
       "3  Audio-Bearbeitungssoftware  Software de edición de audio   \n",
       "4                Flugaufgaben              Deberes de vuelo   \n",
       "\n",
       "                          it                              pl  \\\n",
       "0          Mappe strategiche               Mapy strategiczne   \n",
       "1          Giornali di bordo                       Dzienniki   \n",
       "2        Macchina automatica           Automatyczny samochód   \n",
       "3  Software di editing audio  Oprogramowanie do edycji audio   \n",
       "4             Doveri di volo              Obowiązki lotnicze   \n",
       "\n",
       "                            ca                            nl  \\\n",
       "0            Mapes estratègics          Strategische kaarten   \n",
       "1             Llibres de taula                     Logboeken   \n",
       "2              Cotxe automàtic             Automatische auto   \n",
       "3  Programari d'edició d'àudio  Software voor audiobewerking   \n",
       "4                Deures de vol                   Vluchttaken   \n",
       "\n",
       "                            pt  \n",
       "0           Mapas estratégicos  \n",
       "1                     Logbooks  \n",
       "2             Carro automático  \n",
       "3  Software de edição de áudio  \n",
       "4               Deveres de voo  "
      ]
     },
     "execution_count": 16,
     "metadata": {},
     "output_type": "execute_result"
    }
   ],
   "source": [
    "JTSkills.head()"
   ]
  },
  {
   "cell_type": "code",
   "execution_count": 21,
   "metadata": {},
   "outputs": [],
   "source": [
    "JTSkills.loc[:,'fr':'pt'] = JTSkills.loc[:,'fr':'pt'].applymap(lambda x:x.split(\"_\")[0] if \"_NT\" in x else x)"
   ]
  },
  {
   "cell_type": "code",
   "execution_count": 23,
   "metadata": {},
   "outputs": [],
   "source": [
    "JTSkills.to_csv(\"data/JTSkills_trans.csv\")"
   ]
  }
 ],
 "metadata": {
  "kernelspec": {
   "display_name": "Python 3",
   "language": "python",
   "name": "python3"
  },
  "language_info": {
   "codemirror_mode": {
    "name": "ipython",
    "version": 3
   },
   "file_extension": ".py",
   "mimetype": "text/x-python",
   "name": "python",
   "nbconvert_exporter": "python",
   "pygments_lexer": "ipython3",
   "version": "3.6.8"
  }
 },
 "nbformat": 4,
 "nbformat_minor": 2
}
